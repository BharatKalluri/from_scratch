{
 "cells": [
  {
   "attachments": {},
   "cell_type": "markdown",
   "metadata": {},
   "source": [
    "# A simple scheduler"
   ]
  },
  {
   "attachments": {},
   "cell_type": "markdown",
   "metadata": {},
   "source": [
    "If the function is just not doing anything, why do I have to keep the CPU idle?\n",
    "\n",
    "Let's spin up a simple scheduler and let the scheduler know that CPU is idle. And the scheduler can then start by looking if there is any other work to do, if yes then do it. Simple.\n",
    "\n",
    "But for the first take, let's keep sleep around and see how to interleave the calls"
   ]
  },
  {
   "attachments": {},
   "cell_type": "markdown",
   "metadata": {},
   "source": [
    "## Dissecting on what is a scheduler\n",
    "\n",
    "A scheduler is a setup which can take in requests and schedule them at a fixed sequence. Think of it as an orchestrator. It takes in requests and queues them up for execution.\n",
    "\n",
    "Observe the word queue, the scheduler is essentially a queue which maintains a list of executables and executes them. Python natively has `deque` for queuing, let's build a scheduler using `deque`."
   ]
  },
  {
   "cell_type": "code",
   "execution_count": 1,
   "metadata": {},
   "outputs": [],
   "source": [
    "# Scheduler\n",
    "import time\n",
    "from collections import deque\n",
    "\n",
    "\n",
    "class Scheduler:\n",
    "    def __init__(self):\n",
    "        self.ready = deque()\n",
    "\n",
    "    def call_soon(self, func):\n",
    "        self.ready.append(func)\n",
    "\n",
    "    def run(self):\n",
    "        while self.ready:\n",
    "            func = self.ready.popleft()\n",
    "            func()\n",
    "\n",
    "\n",
    "scheduler = Scheduler()"
   ]
  },
  {
   "attachments": {},
   "cell_type": "markdown",
   "metadata": {},
   "source": [
    "Now that the scheduler is in place, let's swap the implementation of `countdown` and `countup` to use the scheduler"
   ]
  },
  {
   "attachments": {},
   "cell_type": "markdown",
   "metadata": {},
   "source": [
    "count down is straight forward. after sleeping, ask the scheduler to queue up the next execution"
   ]
  },
  {
   "cell_type": "code",
   "execution_count": 2,
   "metadata": {},
   "outputs": [],
   "source": [
    "def countdown(n):\n",
    "    if n > 0:\n",
    "        print(\"down\", n)\n",
    "        time.sleep(1)\n",
    "        scheduler.call_soon(lambda: countdown(n - 1))"
   ]
  },
  {
   "attachments": {},
   "cell_type": "markdown",
   "metadata": {},
   "source": [
    "countup is interesting, think about it. countdown takes in a number and calls itself, so there is _no state to maintain_\n",
    "\n",
    "countup needs to maintain two variables, one is where to stop (which comes from the argument) and the other is till how far it has counted. Where do we maintain this?"
   ]
  },
  {
   "attachments": {},
   "cell_type": "markdown",
   "metadata": {},
   "source": [
    "One way of solving it is by using closures. We can have an inner fn take in a counter argument and then use both vars as state to run the countup.\n",
    "\n",
    "And finally kick it off with executing with zero."
   ]
  },
  {
   "cell_type": "code",
   "execution_count": 3,
   "metadata": {},
   "outputs": [],
   "source": [
    "def countup(stop):\n",
    "    def _run(counter: int):\n",
    "        if counter < stop:\n",
    "            print(\"up\", counter)\n",
    "            time.sleep(1)\n",
    "            scheduler.call_soon(lambda: _run(counter + 1))\n",
    "\n",
    "    _run(0)"
   ]
  },
  {
   "attachments": {},
   "cell_type": "markdown",
   "metadata": {},
   "source": [
    "Piecing it all together"
   ]
  },
  {
   "cell_type": "code",
   "execution_count": 4,
   "metadata": {},
   "outputs": [
    {
     "name": "stdout",
     "output_type": "stream",
     "text": [
      "down 5\n",
      "up 0\n",
      "down 4\n",
      "up 1\n",
      "down 3\n",
      "up 2\n",
      "down 2\n",
      "up 3\n",
      "down 1\n",
      "up 4\n"
     ]
    }
   ],
   "source": [
    "scheduler.call_soon(lambda: countdown(5))\n",
    "scheduler.call_soon(lambda: countup(5))\n",
    "scheduler.run()"
   ]
  },
  {
   "attachments": {},
   "cell_type": "markdown",
   "metadata": {},
   "source": [
    "Awesome, it works as expected!\n",
    "\n",
    "But still, during sleep the thread is just idle! That is not acceptable, we'll need to change that now!"
   ]
  },
  {
   "attachments": {},
   "cell_type": "markdown",
   "metadata": {},
   "source": [
    "## Time sequencing"
   ]
  },
  {
   "cell_type": "code",
   "execution_count": 6,
   "metadata": {},
   "outputs": [],
   "source": [
    "# TODO"
   ]
  }
 ],
 "metadata": {
  "kernelspec": {
   "display_name": "Python 3",
   "language": "python",
   "name": "python3"
  },
  "language_info": {
   "codemirror_mode": {
    "name": "ipython",
    "version": 3
   },
   "file_extension": ".py",
   "mimetype": "text/x-python",
   "name": "python",
   "nbconvert_exporter": "python",
   "pygments_lexer": "ipython3",
   "version": "3.11.3"
  },
  "orig_nbformat": 4
 },
 "nbformat": 4,
 "nbformat_minor": 2
}
