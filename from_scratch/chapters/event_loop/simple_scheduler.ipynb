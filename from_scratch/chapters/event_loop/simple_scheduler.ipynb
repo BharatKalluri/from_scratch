{
 "cells": [
  {
   "attachments": {},
   "cell_type": "markdown",
   "metadata": {},
   "source": [
    "# A simple scheduler"
   ]
  },
  {
   "attachments": {},
   "cell_type": "markdown",
   "metadata": {},
   "source": [
    "If the function is just not doing anything, why do I have to keep the CPU idle?\n",
    "\n",
    "Let's spin up a simple scheduler and let the scheduler know that CPU is idle. And the scheduler can then start by looking if there is any other work to do, if yes then do it. Simple.\n",
    "\n",
    "But for the first take, let's keep sleep around and see how to interleave the calls"
   ]
  },
  {
   "attachments": {},
   "cell_type": "markdown",
   "metadata": {},
   "source": [
    "## Dissecting on what is a scheduler\n",
    "\n",
    "A scheduler is a setup which can take in requests and schedule them at a fixed sequence. Think of it as an orchestrator. It takes in requests and queues them up for execution.\n",
    "\n",
    "Observe the word queue, the scheduler is essentially a queue which maintains a list of executables and executes them. Python natively has `deque` for queuing, let's build a scheduler using `deque`."
   ]
  },
  {
   "cell_type": "code",
   "execution_count": 1,
   "metadata": {},
   "outputs": [],
   "source": [
    "# Scheduler\n",
    "import time\n",
    "from collections import deque\n",
    "\n",
    "\n",
    "class Scheduler:\n",
    "    def __init__(self):\n",
    "        self.ready = deque()\n",
    "\n",
    "    def call_soon(self, func):\n",
    "        self.ready.append(func)\n",
    "\n",
    "    def run(self):\n",
    "        while self.ready:\n",
    "            func = self.ready.popleft()\n",
    "            func()\n",
    "\n",
    "\n",
    "scheduler = Scheduler()"
   ]
  },
  {
   "attachments": {},
   "cell_type": "markdown",
   "metadata": {},
   "source": [
    "Now that the scheduler is in place, let's swap the implementation of `countdown` and `countup` to use the scheduler"
   ]
  },
  {
   "attachments": {},
   "cell_type": "markdown",
   "metadata": {},
   "source": [
    "count down is straight forward. after sleeping, ask the scheduler to queue up the next execution"
   ]
  },
  {
   "cell_type": "code",
   "execution_count": 2,
   "metadata": {},
   "outputs": [],
   "source": [
    "def countdown(n):\n",
    "    if n > 0:\n",
    "        print(\"down\", n)\n",
    "        time.sleep(1)\n",
    "        scheduler.call_soon(lambda: countdown(n - 1))"
   ]
  },
  {
   "attachments": {},
   "cell_type": "markdown",
   "metadata": {},
   "source": [
    "countup is interesting, think about it. countdown takes in a number and calls itself, so there is _no state to maintain_\n",
    "\n",
    "countup needs to maintain two variables, one is where to stop (which comes from the argument) and the other is till how far it has counted. Where do we maintain this?"
   ]
  },
  {
   "attachments": {},
   "cell_type": "markdown",
   "metadata": {},
   "source": [
    "One way of solving it is by using closures. We can have an inner fn take in a counter argument and then use both vars as state to run the countup.\n",
    "\n",
    "And finally kick it off with executing with zero."
   ]
  },
  {
   "cell_type": "code",
   "execution_count": 3,
   "metadata": {},
   "outputs": [],
   "source": [
    "def countup(stop):\n",
    "    def _run(counter: int):\n",
    "        if counter < stop:\n",
    "            print(\"up\", counter)\n",
    "            time.sleep(1)\n",
    "            scheduler.call_soon(lambda: _run(counter + 1))\n",
    "\n",
    "    _run(0)"
   ]
  },
  {
   "attachments": {},
   "cell_type": "markdown",
   "metadata": {},
   "source": [
    "Piecing it all together"
   ]
  },
  {
   "cell_type": "code",
   "execution_count": 4,
   "metadata": {},
   "outputs": [
    {
     "name": "stdout",
     "output_type": "stream",
     "text": [
      "down 5\n",
      "up 0\n",
      "down 4\n",
      "up 1\n",
      "down 3\n",
      "up 2\n",
      "down 2\n",
      "up 3\n",
      "down 1\n",
      "up 4\n"
     ]
    }
   ],
   "source": [
    "scheduler.call_soon(lambda: countdown(5))\n",
    "scheduler.call_soon(lambda: countup(5))\n",
    "scheduler.run()"
   ]
  },
  {
   "attachments": {},
   "cell_type": "markdown",
   "metadata": {},
   "source": [
    "Awesome, it works as expected!\n",
    "\n",
    "But still, during sleep the thread is just idle! That is not acceptable, we'll need to change that now!"
   ]
  },
  {
   "attachments": {},
   "cell_type": "markdown",
   "metadata": {},
   "source": [
    "## Time sequencing"
   ]
  },
  {
   "attachments": {},
   "cell_type": "markdown",
   "metadata": {},
   "source": [
    "`time.sleep` is blocking. During that time, the CPU is not really doing anything. If we can let the scheduler know, then the scheduler can instead run something in that time box."
   ]
  },
  {
   "attachments": {},
   "cell_type": "markdown",
   "metadata": {},
   "source": [
    "Let's add a new function to the scheduler called `call_later` which will _schedule_ a call to the function after some time. Not sleep, but schedule. And during the free time, it can keep looping around and running functions in its queue."
   ]
  },
  {
   "attachments": {},
   "cell_type": "markdown",
   "metadata": {},
   "source": [
    "But how can we pull that off? \n",
    "\n",
    "Let's start by creating another queue for holding all functions which are asleep. This needs to be a queue which is sorted by time so that we always have the first function to execute is the first one sorted by deadline. This is to make sure we don't have to sort for every insert. Python has a construct for this, its called a `heapq`. It'll sort by an arbitrary variable.\n",
    "\n",
    "There is one very small edge case where two functions are scheduled at the same deadline, in that case we'll need a tie-breaker. let's add one more seq number for tie breaking.\n",
    "\n",
    "In run, instead of just running items off the ready queue. We can also check the sleeping queue. If there is nothing in the ready queue, go look at the sleeping queue. If there is something to run, run that as well."
   ]
  },
  {
   "cell_type": "code",
   "execution_count": 3,
   "metadata": {},
   "outputs": [],
   "source": [
    "import time\n",
    "from collections import deque\n",
    "import heapq\n",
    "\n",
    "\n",
    "class Scheduler:\n",
    "    def __init__(self):\n",
    "        self.ready = deque()\n",
    "        self.sleeping = []\n",
    "        self.sequence = 0\n",
    "\n",
    "    def call_soon(self, func):\n",
    "        self.ready.append(func)\n",
    "\n",
    "    def call_later(self, delay, func):\n",
    "        self.sequence += 1\n",
    "        deadline = time.time() + delay\n",
    "        heapq.heappush(self.sleeping, (deadline, self.sequence, func))\n",
    "\n",
    "    def run(self):\n",
    "        while self.ready or self.sleeping:\n",
    "\n",
    "            if not self.ready:\n",
    "                deadline, _, func = heapq.heappop(self.sleeping)\n",
    "                delta = deadline - time.time()\n",
    "                if delta > 0:\n",
    "                    # Question: is this not blocking?\n",
    "                    time.sleep(delta)\n",
    "                self.ready.append(func)\n",
    "\n",
    "            while self.ready:\n",
    "                func = self.ready.popleft()\n",
    "                func()"
   ]
  },
  {
   "attachments": {},
   "cell_type": "markdown",
   "metadata": {},
   "source": [
    "Let's implement the countdown and up again using this instead of `time.sleep`. I've setup the sleeps at different rates so that you can see how the event loop runs them."
   ]
  },
  {
   "cell_type": "code",
   "execution_count": 4,
   "metadata": {},
   "outputs": [
    {
     "name": "stdout",
     "output_type": "stream",
     "text": [
      "down 5\n",
      "up 0\n",
      "up 1\n",
      "up 2\n",
      "up 3\n",
      "down 4\n",
      "up 4\n",
      "down 3\n",
      "down 2\n",
      "down 1\n"
     ]
    }
   ],
   "source": [
    "def countdown(n):\n",
    "    if n > 0:\n",
    "        print(\"down\", n)\n",
    "        scheduler.call_later(4, lambda: countdown(n - 1))\n",
    "\n",
    "\n",
    "def countup(stop):\n",
    "    def _run(counter: int):\n",
    "        if counter < stop:\n",
    "            print(\"up\", counter)\n",
    "            scheduler.call_later(1, lambda: _run(counter + 1))\n",
    "\n",
    "    _run(0)\n",
    "\n",
    "\n",
    "scheduler = Scheduler()\n",
    "scheduler.call_soon(lambda: countdown(5))\n",
    "scheduler.call_soon(lambda: countup(5))\n",
    "scheduler.run()"
   ]
  },
  {
   "attachments": {},
   "cell_type": "markdown",
   "metadata": {},
   "source": [
    "There you have it, true concurrency!\n",
    "\n",
    "There are some classic problems in concurrency which we'll need to visit to go forward from here. Let's pick the producer consumer problem.\n",
    "\n",
    "Here's the deal. There is a producer which produces events at a random time as per its desire. There is a consumer which _listens_ and responds to the producer.\n",
    "\n",
    "_But how do you listen_?\n",
    "\n",
    "Is listening not just waiting, and by result blocking?"
   ]
  }
 ],
 "metadata": {
  "kernelspec": {
   "display_name": "Python 3",
   "language": "python",
   "name": "python3"
  },
  "language_info": {
   "codemirror_mode": {
    "name": "ipython",
    "version": 3
   },
   "file_extension": ".py",
   "mimetype": "text/x-python",
   "name": "python",
   "nbconvert_exporter": "python",
   "pygments_lexer": "ipython3",
   "version": "3.11.3"
  },
  "orig_nbformat": 4
 },
 "nbformat": 4,
 "nbformat_minor": 2
}
