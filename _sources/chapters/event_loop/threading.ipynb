{
 "cells": [
  {
   "attachments": {},
   "cell_type": "markdown",
   "metadata": {},
   "source": [
    "# Running in parallel"
   ]
  },
  {
   "attachments": {},
   "cell_type": "markdown",
   "metadata": {},
   "source": [
    "CPUs are sequential. So to run stuff in parallel, we'll have to run them truly independent of each other.\n",
    "\n",
    "Truly independent is a loaded word. There are two ways you can have \"truly independent\" execution setup. \n",
    "\n",
    "One is by using the real CPU threads. At a hardware level, your CPU probably has 2, 4 or 8 threads. If you run two programs in two different threads, then they are truly independent.\n",
    "\n",
    "The other way is by using something called worker threads. These threads are run by the programming language / OS. We can spin up a lot of these. In the order of hundreds even if you happen to have 4 cores. (Verify??)."
   ]
  },
  {
   "attachments": {},
   "cell_type": "markdown",
   "metadata": {},
   "source": [
    "Let's start off by writing a simple sequential program which has two simple functions. Count down & count up with a sleep of 0.25 seconds."
   ]
  },
  {
   "cell_type": "code",
   "execution_count": 1,
   "metadata": {},
   "outputs": [
    {
     "name": "stdout",
     "output_type": "stream",
     "text": [
      "down 5\n",
      "down 4\n",
      "down 3\n",
      "down 2\n",
      "down 1\n",
      "up 0\n",
      "up 1\n",
      "up 2\n",
      "up 3\n",
      "up 4\n"
     ]
    }
   ],
   "source": [
    "import time\n",
    "\n",
    "\n",
    "def countdown(n):\n",
    "    while n > 0:\n",
    "        print(\"down\", n)\n",
    "        time.sleep(0.25)\n",
    "        n -= 1\n",
    "\n",
    "\n",
    "def countup(stop):\n",
    "    counter = 0\n",
    "    while counter < stop:\n",
    "        print(\"up\", counter)\n",
    "        time.sleep(0.25)\n",
    "        counter += 1\n",
    "\n",
    "\n",
    "countdown(5)\n",
    "countup(5)"
   ]
  },
  {
   "attachments": {},
   "cell_type": "markdown",
   "metadata": {},
   "source": [
    "Now let's run them \"independently\" or \"in parallel\"\n",
    "\n",
    "The traditional way of doing it is by using threads. Let's spin up two threads and run this again."
   ]
  },
  {
   "cell_type": "code",
   "execution_count": 2,
   "metadata": {},
   "outputs": [
    {
     "name": "stdout",
     "output_type": "stream",
     "text": [
      "down 5\n",
      "up 0\n"
     ]
    },
    {
     "name": "stdout",
     "output_type": "stream",
     "text": [
      "down 4\n",
      "up 1\n",
      "down 3\n",
      "up 2\n",
      "down 2\n",
      "up 3\n",
      "down 1\n",
      "up 4\n"
     ]
    }
   ],
   "source": [
    "import threading\n",
    "\n",
    "threading.Thread(target=countdown, args=(5,)).start()\n",
    "threading.Thread(target=countup, args=(5,)).start()"
   ]
  },
  {
   "attachments": {},
   "cell_type": "markdown",
   "metadata": {},
   "source": [
    "Awesome, this works as expected!\n",
    "\n",
    "But then there is no real co-ordination. And we are also using two _different_ threads. Why? The fn is just sleeping in between, right?"
   ]
  },
  {
   "attachments": {},
   "cell_type": "markdown",
   "metadata": {},
   "source": [
    "## The problem when your program is IO bound\n",
    "\n",
    "What happens if you are running a server? All your work is mostly in terms of input output. Mostly waiting for stuff to happen, maybe waiting for an API call to respond, maybe waiting for the file contents to show up etc..\n",
    "\n",
    "Why sit idle when you can do something with the precious CPU resources. Remember this one, this is what we are solving for now."
   ]
  }
 ],
 "metadata": {
  "kernelspec": {
   "display_name": "Python 3",
   "language": "python",
   "name": "python3"
  },
  "language_info": {
   "codemirror_mode": {
    "name": "ipython",
    "version": 3
   },
   "file_extension": ".py",
   "mimetype": "text/x-python",
   "name": "python",
   "nbconvert_exporter": "python",
   "pygments_lexer": "ipython3",
   "version": "3.11.3"
  },
  "orig_nbformat": 4
 },
 "nbformat": 4,
 "nbformat_minor": 2
}
