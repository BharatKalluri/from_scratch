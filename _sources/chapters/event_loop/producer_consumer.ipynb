{
 "cells": [
  {
   "attachments": {},
   "cell_type": "markdown",
   "metadata": {},
   "source": [
    "# Producer consumer problem\n",
    "\n",
    "As stated in the last chapter, there is a producer who produces an event at any arbitrary time. And a consumer who is _waiting and listening_. On event receive, will act on the event."
   ]
  },
  {
   "attachments": {},
   "cell_type": "markdown",
   "metadata": {},
   "source": [
    "Let's start by implementing this using threading like before"
   ]
  },
  {
   "cell_type": "code",
   "execution_count": 1,
   "metadata": {},
   "outputs": [],
   "source": [
    "import queue\n",
    "import threading\n",
    "import time\n",
    "\n",
    "\n",
    "def producer(q: queue.Queue, count):\n",
    "    for n in range(count):\n",
    "        print(\"producing\", n)\n",
    "        q.put(n)\n",
    "        time.sleep(1)\n",
    "    print(\"producer done\")\n",
    "    q.put(None)\n",
    "\n",
    "\n",
    "def consumer(q: queue.Queue):\n",
    "    while True:\n",
    "        item = q.get()\n",
    "        if item is None:\n",
    "            break\n",
    "        print(\"consuming\", item)\n",
    "    print(\"consumer done\")"
   ]
  },
  {
   "attachments": {},
   "cell_type": "markdown",
   "metadata": {},
   "source": [
    "Start by adding a queue into the picture, producer will add a item into the queue every second in this implementation. \n",
    "\n",
    "The consumer will keep looping all the time, whenever it sees an item, print it out. If it sees `None`, it'll break and announce that its done.\n",
    "\n",
    "Finally, let's kick off two threads and start them both."
   ]
  },
  {
   "cell_type": "code",
   "execution_count": 2,
   "metadata": {},
   "outputs": [
    {
     "name": "stdout",
     "output_type": "stream",
     "text": [
      "producing 0\n",
      "consuming 0\n"
     ]
    },
    {
     "name": "stdout",
     "output_type": "stream",
     "text": [
      "producing 1\n",
      "consuming 1\n",
      "producing 2\n",
      "consuming 2\n",
      "producing 3\n",
      "consuming 3\n",
      "producing 4\n",
      "consuming 4\n",
      "producing 5\n",
      "consuming 5\n",
      "producing 6\n",
      "consuming 6\n",
      "producing 7\n",
      "consuming 7\n",
      "producing 8\n",
      "consuming 8\n",
      "producing 9\n",
      "consuming 9\n",
      "producer done\n",
      "consumer done\n"
     ]
    }
   ],
   "source": [
    "queue = queue.Queue()\n",
    "threading.Thread(target=producer, args=(queue, 10)).start()\n",
    "threading.Thread(target=consumer, args=(queue,)).start()"
   ]
  },
  {
   "attachments": {},
   "cell_type": "markdown",
   "metadata": {},
   "source": [
    "This works as planned, now the challenge is to run this concurrently instead of in parallel.\n",
    "\n",
    "We cannot use the existing queue setup, since the default queue does not communicate in any way to the scheduler. We'll need a custom queue implementation. Let's reimport the old scheduler we had in the previous chapter and start thinking about the implementation of `AsyncQueue`"
   ]
  },
  {
   "cell_type": "code",
   "execution_count": 9,
   "metadata": {},
   "outputs": [],
   "source": [
    "import heapq\n",
    "import time\n",
    "from collections import deque\n",
    "\n",
    "\n",
    "class Scheduler:\n",
    "    def __init__(self):\n",
    "        self.ready = deque()\n",
    "        self.sleeping = []  # priority queue\n",
    "        self.sequence = 0\n",
    "\n",
    "    def call_soon(self, func):\n",
    "        self.ready.append(func)\n",
    "\n",
    "    def call_later(self, delay, func):\n",
    "        self.sequence += 1\n",
    "        deadline = time.time() + delay\n",
    "        heapq.heappush(self.sleeping, (deadline, self.sequence, func))\n",
    "\n",
    "    def run(self):\n",
    "        run_counter = 0\n",
    "        while self.ready or self.sleeping:\n",
    "            run_counter += 1\n",
    "\n",
    "            if not self.ready:\n",
    "                deadline, _, func = heapq.heappop(self.sleeping)\n",
    "                delta = deadline - time.time()\n",
    "                if delta > 0:\n",
    "                    # Question: is this not blocking?\n",
    "                    # print(f\"blocking time.sleep for {delta} for {func}\")\n",
    "                    time.sleep(delta)\n",
    "                self.ready.append(func)\n",
    "\n",
    "            while self.ready:\n",
    "                func = self.ready.popleft()\n",
    "                func()\n",
    "\n",
    "\n",
    "scheduler = Scheduler()"
   ]
  },
  {
   "attachments": {},
   "cell_type": "markdown",
   "metadata": {},
   "source": [
    "Now let's think about an async queue implementation. The put in the queue wil still be pretty much the same, for example a simple implementation of put could be \n",
    "\n",
    "```python\n",
    "def put(self, item):\n",
    "    self.items.append(item)\n",
    "```\n",
    "\n",
    "assuming items is a normal python queue. \n",
    "\n",
    "The tricky part is the `get` function. Who will trigger the `get` if the get is not constantly listening?\n",
    "\n",
    "Let's start with a simple mock implementation of `get`\n",
    "\n",
    "```python\n",
    "def get(self):\n",
    "    if self.items:\n",
    "        return items[0] \n",
    "```\n",
    "\n",
    "This is not useful for us, because for this to work someone needs to keep calling get continuously. If we think about it, we'll need to somehow communicate / signal a listener that we have an event.\n",
    "\n",
    "Why not use callbacks?\n",
    "\n",
    "```python\n",
    "def get(self, callback):\n",
    "    if self.items:\n",
    "        return callback(self.items.popleft()) \n",
    "```\n",
    "\n",
    "Now we can pass a callback and the callback will be triggered when there are items?"
   ]
  },
  {
   "attachments": {},
   "cell_type": "markdown",
   "metadata": {},
   "source": [
    "Nope, even with the callback some other orchestrator should keep calling the get function. So that when there are items, it'll call the callback function. How would you solve the problem of not constantly calling get?\n",
    "\n",
    "Think for a minute. "
   ]
  },
  {
   "attachments": {},
   "cell_type": "markdown",
   "metadata": {},
   "source": [
    "Pay close attention, what if you had another queue called a waiting queue in the `AsyncQueue`. And on each `put`, check the waiting queue. If there is an element `call_soon` _that function_.\n",
    "\n",
    "And in the `get` call. If there are no items for some reason, queue another `get` call in the waiting queue.\n",
    "\n",
    "Here's the implementation"
   ]
  },
  {
   "cell_type": "code",
   "execution_count": 4,
   "metadata": {},
   "outputs": [],
   "source": [
    "class AsyncQueue:\n",
    "    def __init__(self):\n",
    "        self.items = deque()\n",
    "        self.waiting = deque()  # all getters waiting for later\n",
    "\n",
    "    def put(self, item):\n",
    "        self.items.append(item)\n",
    "        if self.waiting:\n",
    "            func = self.waiting.popleft()\n",
    "            scheduler.call_soon(func)\n",
    "\n",
    "    def get(self, callback):\n",
    "        if self.items:\n",
    "            callback(self.items.popleft())\n",
    "        else:\n",
    "            self.waiting.append(lambda: self.get(callback))"
   ]
  },
  {
   "attachments": {},
   "cell_type": "markdown",
   "metadata": {},
   "source": [
    "Observe carefully. Whenever a `put` happens, waiting queue is checked and if something is waiting, its called.\n",
    "\n",
    "Whenever a get happens, if there are items they come back. Else, another call is queued in the *waiting queue*.\n",
    "\n",
    "This is a neat trick. Every put is also running `get` & every bad get is actually queuing something in the waiting queue.\n",
    "\n",
    "The details might be more clear when this is used."
   ]
  },
  {
   "attachments": {},
   "cell_type": "markdown",
   "metadata": {},
   "source": [
    "For the producer, we'll need to maintain a counter of current state and the target state. Which means we'll have to use closures again.\n",
    "\n",
    "We'll still keep this rule saying if the get emits none, then the queue is complete."
   ]
  },
  {
   "cell_type": "code",
   "execution_count": 5,
   "metadata": {},
   "outputs": [],
   "source": [
    "def producer(q: AsyncQueue, count):\n",
    "    def _run(n):\n",
    "        if n <= count:\n",
    "            print(\"producing \", n)\n",
    "            q.put(n)\n",
    "            scheduler.call_later(1, lambda: _run(n + 1))\n",
    "        else:\n",
    "            print(\"producer done\")\n",
    "\n",
    "    _run(0)"
   ]
  },
  {
   "attachments": {},
   "cell_type": "markdown",
   "metadata": {},
   "source": [
    "For the consumer, we'll need to pass a callback to the async queue so that it can keep queuing calls. if it receives None, then we print no item found and move on"
   ]
  },
  {
   "cell_type": "code",
   "execution_count": 7,
   "metadata": {},
   "outputs": [],
   "source": [
    "def consumer(q: AsyncQueue):\n",
    "    def _consume(item):\n",
    "        if item is None:\n",
    "            print(\"no item found\")\n",
    "            pass\n",
    "        else:\n",
    "            print(\"consuming\", item)\n",
    "            scheduler.call_soon(lambda: consumer(q))\n",
    "\n",
    "    q.get(callback=_consume)"
   ]
  },
  {
   "cell_type": "code",
   "execution_count": 10,
   "metadata": {},
   "outputs": [
    {
     "name": "stdout",
     "output_type": "stream",
     "text": [
      "producing  0\n",
      "consuming 0\n",
      "producing  1\n",
      "consuming 1\n",
      "producing  2\n",
      "consuming 2\n",
      "producing  3\n",
      "consuming 3\n",
      "producer done\n"
     ]
    }
   ],
   "source": [
    "async_queue = AsyncQueue()\n",
    "scheduler.call_soon(lambda: producer(async_queue, 3))\n",
    "scheduler.call_soon(\n",
    "    lambda: consumer(\n",
    "        q=async_queue,\n",
    "    )\n",
    ")\n",
    "scheduler.run()"
   ]
  },
  {
   "attachments": {},
   "cell_type": "markdown",
   "metadata": {},
   "source": [
    "Works!\n",
    "\n",
    "This might be slightly mind bending, but let's recap on what is exactly happening.\n",
    "\n",
    "I'll not get into the scheduler since that's carry forward from the previous chapter.\n",
    "\n",
    "- call_soon the producer, call_soon the consumer. At this point in the scheduler queue, there are two functions ready to execute\n",
    "- kick off the scheduler. The producer will run, produce one element. It also checks the waiting queue, its empty so nothing to do. And then do a `call_later` with one second the producer again. The next element in the queue is the consumer fn call.\n",
    "- the consumer will do a get call, see an element and call the callback fn with that element. In the next loop, `call_later` earlier will trigger and another element is produced. \n",
    "\n",
    "And the loop goes on..."
   ]
  },
  {
   "attachments": {},
   "cell_type": "markdown",
   "metadata": {},
   "source": [
    "This looks pretty nice, but what happens if we flip the `call_soon` and call the consumer first and then call the producer?\n",
    "\n",
    "Pause and think\n",
    "\n",
    "---"
   ]
  },
  {
   "attachments": {},
   "cell_type": "markdown",
   "metadata": {},
   "source": [
    "This is getting hairy, at this point with all the callbacks and closures parsing the code is becoming a nightmare.\n",
    "\n",
    "Let's use one construct which python provides out of the box to clean it up a bit called `yield`.\n",
    "\n",
    "Yield pauses execution of a function until the next time its called. \n",
    "\n",
    "> If you are not familiar with `yield`, please read more about it before jumping into the next chapter."
   ]
  }
 ],
 "metadata": {
  "kernelspec": {
   "display_name": "Python 3",
   "language": "python",
   "name": "python3"
  },
  "language_info": {
   "codemirror_mode": {
    "name": "ipython",
    "version": 3
   },
   "file_extension": ".py",
   "mimetype": "text/x-python",
   "name": "python",
   "nbconvert_exporter": "python",
   "pygments_lexer": "ipython3",
   "version": "3.11.3"
  },
  "orig_nbformat": 4
 },
 "nbformat": 4,
 "nbformat_minor": 2
}
